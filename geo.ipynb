{
 "cells": [
  {
   "cell_type": "code",
   "execution_count": 1,
   "metadata": {},
   "outputs": [
    {
     "name": "stdout",
     "output_type": "stream",
     "text": [
      "Shortest path by GeographicLib (no obstacles):\n",
      "[(28.7041, 77.1025), (27.132314287571266, 77.15702726774737), (25.560156042875626, 77.21005011058861), (23.98764145899228, 77.26170622038038), (22.414787614009086, 77.31212230772924), (20.84161244388716, 77.36141546004839), (19.268134709773772, 77.4096943292847), (17.694373960271857, 77.45706017608856), (16.12035048912653, 77.50360779277759), (14.546085288752739, 77.54942632386327), (12.971599999999999, 77.5946)]\n"
     ]
    }
   ],
   "source": [
    "from geographiclib.geodesic import Geodesic\n",
    "import heapq\n",
    "\n",
    "def compute_geodesic_points(start_point, end_point, num_points):\n",
    "    geod = Geodesic.WGS84\n",
    "    geodesic_line = geod.InverseLine(start_point[0], start_point[1], end_point[0], end_point[1])\n",
    "    points = []\n",
    "    for i in range(num_points + 1):\n",
    "        interp = geodesic_line.Position(i * geodesic_line.s13 / num_points)\n",
    "        points.append((interp['lat2'], interp['lon2']))\n",
    "    return points\n",
    "\n",
    "def heuristic_distance(point, goal):\n",
    "    dx = goal[0] - point[0]\n",
    "    dy = goal[1] - point[1]\n",
    "    return ((dx ** 2) + (dy ** 2)) ** 0.5\n",
    "\n",
    "def astar(start, goal, obstacles, num_points):\n",
    "    geod = Geodesic.WGS84\n",
    "    frontier = [(0, start)]\n",
    "    came_from = {}\n",
    "    cost_so_far = {start: 0}\n",
    "    while frontier:\n",
    "        _, current = heapq.heappop(frontier)\n",
    "        if current == goal:\n",
    "            break\n",
    "        for next_point in compute_geodesic_points(current, goal, num_points):\n",
    "            if next_point not in obstacles:\n",
    "                new_cost = cost_so_far[current] + heuristic_distance(current, next_point)\n",
    "                if next_point not in cost_so_far or new_cost < cost_so_far[next_point]:\n",
    "                    cost_so_far[next_point] = new_cost\n",
    "                    priority = new_cost + heuristic_distance(next_point, goal)\n",
    "                    heapq.heappush(frontier, (priority, next_point))\n",
    "                    came_from[next_point] = current\n",
    "    path = [goal]\n",
    "    while goal != start:\n",
    "        goal = came_from[goal]\n",
    "        path.append(goal)\n",
    "    path.reverse()\n",
    "    return path\n",
    "\n",
    "start_point = (28.7041, 77.1025) \n",
    "end_point = (12.9716, 77.5946)  \n",
    "\n",
    "obstacle_points = [\n",
    "    (34.05219999999999, -118.2437)   \n",
    "]\n",
    "\n",
    "num_points = 10\n",
    "shortest_path = compute_geodesic_points(start_point, end_point, num_points)\n",
    "if any(point in obstacle_points for point in shortest_path):\n",
    "    print(\"Obstacles detected in shortest path by GeographicLib.\")\n",
    "    print(\"Finding alternative path using A* algorithm.\")\n",
    "    for delta_lat in [-1, 0, 1]:\n",
    "        for delta_lon in [-1, 0, 1]:\n",
    "            adjusted_start_point = (start_point[0] + delta_lat, start_point[1] + delta_lon)\n",
    "            adjusted_end_point = (end_point[0] + delta_lat, end_point[1] + delta_lon)\n",
    "            alternative_path = astar(adjusted_start_point, adjusted_end_point, obstacle_points, num_points)\n",
    "            if all(point not in obstacle_points for point in alternative_path):\n",
    "                print(\"Alternative path without obstacles:\")\n",
    "                print(alternative_path)\n",
    "                break\n",
    "        else:\n",
    "            continue\n",
    "        break\n",
    "else:\n",
    "    print(\"Shortest path by GeographicLib (no obstacles):\")\n",
    "    print(shortest_path)"
   ]
  }
 ],
 "metadata": {
  "kernelspec": {
   "display_name": "Python 3",
   "language": "python",
   "name": "python3"
  },
  "language_info": {
   "codemirror_mode": {
    "name": "ipython",
    "version": 3
   },
   "file_extension": ".py",
   "mimetype": "text/x-python",
   "name": "python",
   "nbconvert_exporter": "python",
   "pygments_lexer": "ipython3",
   "version": "3.10.10"
  }
 },
 "nbformat": 4,
 "nbformat_minor": 2
}
