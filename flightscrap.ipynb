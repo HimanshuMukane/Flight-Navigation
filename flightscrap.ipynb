{
 "cells": [
  {
   "cell_type": "code",
   "execution_count": 10,
   "metadata": {},
   "outputs": [
    {
     "name": "stdout",
     "output_type": "stream",
     "text": [
      "Data has been successfully written to sample1.html\n"
     ]
    }
   ],
   "source": [
    "from selenium import webdriver\n",
    "from bs4 import BeautifulSoup\n",
    "import time\n",
    "\n",
    "def scrape_page(url):\n",
    "    driver = webdriver.Chrome()\n",
    "    driver.get(url)\n",
    "    try:\n",
    "        time.sleep(5)\n",
    "        html = driver.page_source\n",
    "        soup = BeautifulSoup(html, 'html.parser')\n",
    "        extracted_data = \"\"\n",
    "        table = soup.find('table', id='Results')\n",
    "        if table:\n",
    "            rows = table.find_all('tr')\n",
    "            for row in rows:\n",
    "                extracted_data += \"\"\n",
    "                headers = row.find_all('th')\n",
    "                for header in headers:\n",
    "                    extracted_data += f\"{header.get_text()}\"\n",
    "                cells = row.find_all('td')\n",
    "                for cell in cells:\n",
    "                    extracted_data += f\"{cell.get_text()}\"\n",
    "                extracted_data += \"\"\n",
    "        extracted_data += \"\"\n",
    "        file_name = \"sample1.html\"\n",
    "        with open(file_name, \"w\") as file:\n",
    "            file.write(extracted_data)\n",
    "        print(f\"Data has been successfully written to {file_name}\")\n",
    "    except Exception as e:\n",
    "        print(\"Error:\", e)\n",
    "    finally:\n",
    "        driver.quit()\n",
    "url = '#'\n",
    "scrape_page(url)"
   ]
  }
 ],
 "metadata": {
  "kernelspec": {
   "display_name": "Python 3",
   "language": "python",
   "name": "python3"
  },
  "language_info": {
   "codemirror_mode": {
    "name": "ipython",
    "version": 3
   },
   "file_extension": ".py",
   "mimetype": "text/x-python",
   "name": "python",
   "nbconvert_exporter": "python",
   "pygments_lexer": "ipython3",
   "version": "3.10.10"
  }
 },
 "nbformat": 4,
 "nbformat_minor": 2
}
