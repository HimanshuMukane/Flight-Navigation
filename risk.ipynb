{
 "cells": [
  {
   "cell_type": "code",
   "execution_count": 13,
   "metadata": {},
   "outputs": [
    {
     "name": "stdout",
     "output_type": "stream",
     "text": [
      "Potential accidents:\n",
      "Date: 2008-08-24 00:00:00\n",
      "Location: Near Cabañas, Guatemala\n",
      "Summary: The plane lost engine power and the crew attempted an emergency landing in a field but crashed.\n",
      "Season: Summer\n",
      "\n"
     ]
    }
   ],
   "source": [
    "import pandas as pd\n",
    "from datetime import datetime\n",
    "\n",
    "# Read data from Excel\n",
    "data = pd.read_csv(\"airplane.csv\")\n",
    "\n",
    "# Preprocess the data\n",
    "data['Date'] = pd.to_datetime(data['Date'], errors='coerce')\n",
    "\n",
    "# Function to extract season from date\n",
    "def get_season(date):\n",
    "    if date.month in [12, 1, 2]:\n",
    "        return 'Winter'\n",
    "    elif date.month in [3, 4, 5]:\n",
    "        return 'Spring'\n",
    "    elif date.month in [6, 7, 8]:\n",
    "        return 'Summer'\n",
    "    elif date.month in [9, 10, 11]:\n",
    "        return 'Autumn'\n",
    "    else:\n",
    "        return 'Unknown'\n",
    "\n",
    "# Function to identify potential accidents based on user input\n",
    "def identify_accidents(user_input):\n",
    "    accidents = []\n",
    "    for index, row in data.iterrows():\n",
    "        date = row['Date']\n",
    "        location = row['Location']\n",
    "        summary = row['Summary']\n",
    "        season = get_season(date)\n",
    "        \n",
    "        # Check if user input matches any potential accident scenario\n",
    "        if (user_input['date'] == date) and (user_input['location'].lower() in location.lower()):\n",
    "            accidents.append((date, location, summary, season))\n",
    "    \n",
    "    return accidents\n",
    "\n",
    "# Example user input\n",
    "user_input = {\n",
    "    'date': datetime(2008, 8, 24),\n",
    "    'location': 'Guatemala'\n",
    "}\n",
    "\n",
    "# Identify potential accidents based on user input\n",
    "potential_accidents = identify_accidents(user_input)\n",
    "\n",
    "# Print potential accidents\n",
    "if potential_accidents:\n",
    "    print(\"Potential accidents:\")\n",
    "    for accident in potential_accidents:\n",
    "        print(\"Date:\", accident[0])\n",
    "        print(\"Location:\", accident[1])\n",
    "        print(\"Summary:\", accident[2])\n",
    "        print(\"Season:\", accident[3])\n",
    "        print()\n",
    "else:\n",
    "    print(\"No potential accidents found.\")\n"
   ]
  }
 ],
 "metadata": {
  "kernelspec": {
   "display_name": "Python 3",
   "language": "python",
   "name": "python3"
  },
  "language_info": {
   "codemirror_mode": {
    "name": "ipython",
    "version": 3
   },
   "file_extension": ".py",
   "mimetype": "text/x-python",
   "name": "python",
   "nbconvert_exporter": "python",
   "pygments_lexer": "ipython3",
   "version": "3.10.10"
  }
 },
 "nbformat": 4,
 "nbformat_minor": 2
}
