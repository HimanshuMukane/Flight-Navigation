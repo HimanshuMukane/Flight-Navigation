{
 "cells": [
  {
   "cell_type": "code",
   "execution_count": null,
   "metadata": {},
   "outputs": [],
   "source": [
    "import requests\n",
    "\n",
    "apiKey = input(\"API Key: \")\n",
    "apiUrl = \"https://aeroapi.flightaware.com/aeroapi/\"\n",
    "\n",
    "airport = 'KSFO'\n",
    "payload = {'max_pages': 2}\n",
    "auth_header = {'x-apikey':apiKey}\n",
    "\n",
    "response = requests.get(apiUrl + f\"airports/{airport}/flights\",\n",
    "    params=payload, headers=auth_header)\n",
    "\n",
    "if response.status_code == 200:\n",
    "    print(response.json())\n",
    "else:\n",
    "    print(\"Error executing request\")"
   ]
  }
 ],
 "metadata": {
  "language_info": {
   "name": "python"
  }
 },
 "nbformat": 4,
 "nbformat_minor": 2
}
